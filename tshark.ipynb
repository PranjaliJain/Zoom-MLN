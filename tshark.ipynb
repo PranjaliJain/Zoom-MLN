{
 "cells": [
  {
   "cell_type": "code",
   "execution_count": 1,
   "metadata": {},
   "outputs": [],
   "source": [
    "import os\n",
    "from datetime import datetime, timedelta\n",
    "import pandas as pd"
   ]
  },
  {
   "cell_type": "code",
   "execution_count": 6,
   "metadata": {},
   "outputs": [],
   "source": [
    "data = pd.read_csv(\"fps_data.csv\")  "
   ]
  },
  {
   "cell_type": "code",
   "execution_count": null,
   "metadata": {},
   "outputs": [],
   "source": [
    "packet_count = []\n",
    "for idx, row in data.iterrows():\n",
    "    sdate = datetime.strptime(data['datetime'][idx], '%Y-%m-%d %H:%M:%S.%f')\n",
    "    if idx == (len(data) - 1): \n",
    "        edate = sdate + timedelta(0, 0.999999)\n",
    "    else:\n",
    "        nextsdate = datetime.strptime(data['datetime'][idx + 1], '%Y-%m-%d %H:%M:%S.%f')\n",
    "        edate = nextsdate + timedelta(microseconds=-1)\n",
    "    print(\"start: \", sdate)\n",
    "    print(\"End : \", edate)\n",
    "\n",
    "    count = os.popen(\"tshark -r ~/assets/timetest.pcapng -Y 'frame.time >= \\\"\" + sdate.strftime('%Y-%m-%d %H:%M:%S.%f') + \"\\\" && frame.time <= \\\"\"+ edate.strftime('%Y-%m-%d %H:%M:%S.%f') + \"\\\"' | wc -l\").read()\n",
    "    packet_count.append(count)\n",
    "    print(\"Count - \", count)\n",
    "\n",
    "data['packet_count'] = packet_count"
   ]
  },
  {
   "cell_type": "code",
   "execution_count": null,
   "metadata": {},
   "outputs": [],
   "source": []
  },
  {
   "cell_type": "code",
   "execution_count": null,
   "metadata": {},
   "outputs": [],
   "source": []
  }
 ],
 "metadata": {
  "interpreter": {
   "hash": "07cb9f8cfeda7696f493be45d4c7d34e86c9471be28912a84cd579d37231079d"
  },
  "kernelspec": {
   "display_name": "Python 3.9.13 64-bit",
   "language": "python",
   "name": "python3"
  },
  "language_info": {
   "codemirror_mode": {
    "name": "ipython",
    "version": 3
   },
   "file_extension": ".py",
   "mimetype": "text/x-python",
   "name": "python",
   "nbconvert_exporter": "python",
   "pygments_lexer": "ipython3",
   "version": "3.9.13"
  },
  "orig_nbformat": 4
 },
 "nbformat": 4,
 "nbformat_minor": 2
}

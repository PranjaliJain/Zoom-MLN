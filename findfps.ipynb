{
 "cells": [
  {
   "cell_type": "code",
   "execution_count": 1,
   "metadata": {},
   "outputs": [],
   "source": [
    "import pyscreenshot as ImageGrab\n",
    "import numpy as np\n",
    "import pyautogui\n",
    "import time\n",
    "from datetime import datetime\n",
    "import cv2\n",
    "import pytesseract\n",
    "import imutils\n",
    "import pandas as pd"
   ]
  },
  {
   "cell_type": "code",
   "execution_count": 2,
   "metadata": {},
   "outputs": [],
   "source": [
    "pytesseract.pytesseract.tesseract_cmd = r\"C:\\\\Program Files\\\\Tesseract-OCR\\\\tesseract.exe\""
   ]
  },
  {
   "cell_type": "code",
   "execution_count": 3,
   "metadata": {},
   "outputs": [],
   "source": [
    "# pyautogui.mouseInfo()"
   ]
  },
  {
   "cell_type": "code",
   "execution_count": 4,
   "metadata": {},
   "outputs": [],
   "source": [
    "prev = 0\n",
    "images = []\n",
    "timestamps = []\n",
    "datetimestamps = []\n",
    "image_np =[]\n",
    "\n",
    "# while True:\n",
    "for _ in range(80):\n",
    "    timestamp = time.time()\n",
    "    datetimestamp = datetime.now()\n",
    "    img = ImageGrab.grab(bbox=(1245,446,1274,480))\n",
    "    images.append(img)\n",
    "    timestamps.append(timestamp)\n",
    "    datetimestamps.append(datetimestamp)\n",
    "    elapsed = time.time()-timestamp\n",
    "    time.sleep(0.999-elapsed)"
   ]
  },
  {
   "cell_type": "code",
   "execution_count": 5,
   "metadata": {},
   "outputs": [],
   "source": [
    "for i,img in enumerate(images):\n",
    "    name = str(timestamps[i])[7:13]\n",
    "    img.save(rf\"C:\\\\Users\\\\pranj\\\\OneDrive\\\\Desktop\\\\UCSB_Spring_2022\\\\ML_for_Networks\\\\zoomScreenCap\\\\call1Zoom\\\\\\\\{name}.png\")"
   ]
  },
  {
   "cell_type": "code",
   "execution_count": null,
   "metadata": {},
   "outputs": [],
   "source": []
  },
  {
   "cell_type": "code",
   "execution_count": 6,
   "metadata": {},
   "outputs": [],
   "source": [
    "digits = []\n",
    "strdatetimestamps = []\n",
    "for i, timestamp in enumerate(timestamps):\n",
    "    name = str(timestamps[i])[7:13]\n",
    "    img = cv2.imread(rf'C:\\\\Users\\\\pranj\\\\OneDrive\\\\Desktop\\\\UCSB_Spring_2022\\\\ML_for_Networks\\\\zoomScreenCap\\\\call1Zoom\\\\\\\\{name}.png') \n",
    "    dig = pytesseract.image_to_string(img ,config=' --psm 1 --oem 3  -c tessedit_char_whitelist=0123456789/')\n",
    "    if dig == '':\n",
    "        dig = 0\n",
    "    else:\n",
    "        dig = dig.strip('\\n')\n",
    "    digits.append(dig)\n",
    "    strdatetimestamps.append(datetimestamps[i].strftime(\"%Y-%m-%d %H:%M:%S.%f\"))\n"
   ]
  },
  {
   "cell_type": "code",
   "execution_count": 7,
   "metadata": {},
   "outputs": [
    {
     "name": "stdout",
     "output_type": "stream",
     "text": [
      "[0, 0, 0, 0, 0, '27', '24', 0, '24', '24', '24', '24', '24', '24', '24', '24', '23', '24', '24', 0, '24', '24', '24', '24', '24', '24', '24', '24', '24', '24', '24', '24', '24', '23', '24', '24', '24', '24', '24', '23', '24', '24', '24', '23', '24', '24', '24', '24', '24', 0, 0, '23', '24', '24', '24', '24', '24', '24', '24', '24', '24', '23', '24', '24', '24', '23', '24', '24', '24', '24', 0, 0, 0, 0, 0, 0, 0, 0, 0, 0]\n"
     ]
    }
   ],
   "source": [
    "print(digits)"
   ]
  },
  {
   "cell_type": "code",
   "execution_count": 8,
   "metadata": {},
   "outputs": [],
   "source": [
    "data = pd.DataFrame(list(zip(timestamps, digits, strdatetimestamps)), columns=['epoch_time','fps','datetime'])"
   ]
  },
  {
   "cell_type": "code",
   "execution_count": 9,
   "metadata": {},
   "outputs": [],
   "source": [
    "data.to_csv(\"fps_data_hs_animals.csv\")"
   ]
  },
  {
   "cell_type": "code",
   "execution_count": 10,
   "metadata": {},
   "outputs": [],
   "source": [
    "# data"
   ]
  },
  {
   "cell_type": "code",
   "execution_count": 7,
   "metadata": {},
   "outputs": [],
   "source": [
    "# datetime.now().strftime(\"%Y-%m-%d %H:%M:%S.%f\")"
   ]
  },
  {
   "cell_type": "code",
   "execution_count": null,
   "metadata": {},
   "outputs": [],
   "source": []
  }
 ],
 "metadata": {
  "interpreter": {
   "hash": "07cb9f8cfeda7696f493be45d4c7d34e86c9471be28912a84cd579d37231079d"
  },
  "kernelspec": {
   "display_name": "Python 3.9.13 64-bit",
   "language": "python",
   "name": "python3"
  },
  "language_info": {
   "codemirror_mode": {
    "name": "ipython",
    "version": 3
   },
   "file_extension": ".py",
   "mimetype": "text/x-python",
   "name": "python",
   "nbconvert_exporter": "python",
   "pygments_lexer": "ipython3",
   "version": "3.9.13"
  },
  "orig_nbformat": 4
 },
 "nbformat": 4,
 "nbformat_minor": 2
}

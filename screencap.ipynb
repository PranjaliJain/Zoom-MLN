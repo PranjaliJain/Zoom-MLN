{
 "cells": [
  {
   "cell_type": "code",
   "execution_count": 8,
   "metadata": {},
   "outputs": [
    {
     "name": "stdout",
     "output_type": "stream",
     "text": [
      "Requirement already satisfied: pygetwindow in c:\\users\\pranj\\appdata\\local\\programs\\python\\python39\\lib\\site-packages (0.0.9)\n",
      "Requirement already satisfied: pyrect in c:\\users\\pranj\\appdata\\local\\programs\\python\\python39\\lib\\site-packages (from pygetwindow) (0.2.0)\n",
      "Note: you may need to restart the kernel to use updated packages.\n"
     ]
    }
   ],
   "source": [
    "pip install pygetwindow"
   ]
  },
  {
   "cell_type": "code",
   "execution_count": 6,
   "metadata": {},
   "outputs": [
    {
     "name": "stdout",
     "output_type": "stream",
     "text": [
      "Collecting pyautogui\n",
      "  Downloading PyAutoGUI-0.9.53.tar.gz (59 kB)\n",
      "     ---------------------------------------- 59.0/59.0 KB 3.0 MB/s eta 0:00:00\n",
      "  Preparing metadata (setup.py): started\n",
      "  Preparing metadata (setup.py): finished with status 'done'\n",
      "Collecting pymsgbox\n",
      "  Downloading PyMsgBox-1.0.9.tar.gz (18 kB)\n",
      "  Installing build dependencies: started\n",
      "  Installing build dependencies: finished with status 'done'\n",
      "  Getting requirements to build wheel: started\n",
      "  Getting requirements to build wheel: finished with status 'done'\n",
      "  Preparing metadata (pyproject.toml): started\n",
      "  Preparing metadata (pyproject.toml): finished with status 'done'\n",
      "Collecting PyTweening>=1.0.1\n",
      "  Downloading pytweening-1.0.4.tar.gz (14 kB)\n",
      "  Preparing metadata (setup.py): started\n",
      "  Preparing metadata (setup.py): finished with status 'done'\n",
      "Collecting pyscreeze>=0.1.21\n",
      "  Downloading PyScreeze-0.1.28.tar.gz (25 kB)\n",
      "  Installing build dependencies: started\n",
      "  Installing build dependencies: finished with status 'done'\n",
      "  Getting requirements to build wheel: started\n",
      "  Getting requirements to build wheel: finished with status 'done'\n",
      "  Preparing metadata (pyproject.toml): started\n",
      "  Preparing metadata (pyproject.toml): finished with status 'done'\n",
      "Requirement already satisfied: pygetwindow>=0.0.5 in c:\\users\\pranj\\appdata\\local\\programs\\python\\python39\\lib\\site-packages (from pyautogui) (0.0.9)\n",
      "Collecting mouseinfo\n",
      "  Downloading MouseInfo-0.1.3.tar.gz (10 kB)\n",
      "  Preparing metadata (setup.py): started\n",
      "  Preparing metadata (setup.py): finished with status 'done'\n",
      "Requirement already satisfied: pyrect in c:\\users\\pranj\\appdata\\local\\programs\\python\\python39\\lib\\site-packages (from pygetwindow>=0.0.5->pyautogui) (0.2.0)\n",
      "Collecting pyperclip\n",
      "  Downloading pyperclip-1.8.2.tar.gz (20 kB)\n",
      "  Preparing metadata (setup.py): started\n",
      "  Preparing metadata (setup.py): finished with status 'done'\n",
      "Using legacy 'setup.py install' for pyautogui, since package 'wheel' is not installed.\n",
      "Using legacy 'setup.py install' for PyTweening, since package 'wheel' is not installed.\n",
      "Using legacy 'setup.py install' for mouseinfo, since package 'wheel' is not installed.\n",
      "Using legacy 'setup.py install' for pyperclip, since package 'wheel' is not installed.\n",
      "Building wheels for collected packages: pyscreeze, pymsgbox\n",
      "  Building wheel for pyscreeze (pyproject.toml): started\n",
      "  Building wheel for pyscreeze (pyproject.toml): finished with status 'done'\n",
      "  Created wheel for pyscreeze: filename=PyScreeze-0.1.28-py3-none-any.whl size=13009 sha256=fc741045c9dc5a6445ad1b510402b3bfd8aa53c3cbe9b9b4b7e3e8dda997b97e\n",
      "  Stored in directory: c:\\users\\pranj\\appdata\\local\\pip\\cache\\wheels\\a2\\5b\\86\\99f1d8fac5d92de0ccb3f0d4ad15e3f4278baf75a9b0f20b93\n",
      "  Building wheel for pymsgbox (pyproject.toml): started\n",
      "  Building wheel for pymsgbox (pyproject.toml): finished with status 'done'\n",
      "  Created wheel for pymsgbox: filename=PyMsgBox-1.0.9-py3-none-any.whl size=7406 sha256=78d29667728fd838af73dc2301ba3cbaff9df460529bce371bfe5b7eb72f191d\n",
      "  Stored in directory: c:\\users\\pranj\\appdata\\local\\pip\\cache\\wheels\\7f\\13\\8c\\584c519464297d9637f9cd29fd1dcdf55e2a2cab225c76a2db\n",
      "Successfully built pyscreeze pymsgbox\n",
      "Installing collected packages: PyTweening, pyscreeze, pyperclip, pymsgbox, mouseinfo, pyautogui\n",
      "  Running setup.py install for PyTweening: started\n",
      "  Running setup.py install for PyTweening: finished with status 'done'\n",
      "  Running setup.py install for pyperclip: started\n",
      "  Running setup.py install for pyperclip: finished with status 'done'\n",
      "  Running setup.py install for mouseinfo: started\n",
      "  Running setup.py install for mouseinfo: finished with status 'done'\n",
      "  Running setup.py install for pyautogui: started\n",
      "  Running setup.py install for pyautogui: finished with status 'done'\n",
      "Successfully installed PyTweening-1.0.4 mouseinfo-0.1.3 pyautogui-0.9.53 pymsgbox-1.0.9 pyperclip-1.8.2 pyscreeze-0.1.28\n",
      "Note: you may need to restart the kernel to use updated packages.\n"
     ]
    },
    {
     "name": "stderr",
     "output_type": "stream",
     "text": [
      "WARNING: You are using pip version 22.0.4; however, version 22.1.1 is available.\n",
      "You should consider upgrading via the 'c:\\Users\\pranj\\AppData\\Local\\Programs\\Python\\Python39\\python.exe -m pip install --upgrade pip' command.\n"
     ]
    }
   ],
   "source": [
    "pip install pyautogui"
   ]
  },
  {
   "cell_type": "code",
   "execution_count": 11,
   "metadata": {},
   "outputs": [
    {
     "name": "stdout",
     "output_type": "stream",
     "text": [
      "Collecting pillow\n",
      "  Downloading Pillow-9.1.1-cp39-cp39-win_amd64.whl (3.3 MB)\n",
      "     ---------------------------------------- 3.3/3.3 MB 19.0 MB/s eta 0:00:00\n",
      "Installing collected packages: pillow\n",
      "Successfully installed pillow-9.1.1\n",
      "Note: you may need to restart the kernel to use updated packages.\n"
     ]
    }
   ],
   "source": [
    "pip install pillow"
   ]
  },
  {
   "cell_type": "code",
   "execution_count": 4,
   "metadata": {},
   "outputs": [],
   "source": [
    "import pygetwindow\n",
    "import time\n",
    "import os\n",
    "import pyautogui\n",
    "import PIL\n"
   ]
  },
  {
   "cell_type": "code",
   "execution_count": 2,
   "metadata": {},
   "outputs": [
    {
     "name": "stdout",
     "output_type": "stream",
     "text": [
      "width=1920\theight=1080\n"
     ]
    }
   ],
   "source": [
    "\n",
    "# get screensize\n",
    "x,y = pyautogui.size()\n",
    "print(f\"width={x}\\theight={y}\")\n"
   ]
  },
  {
   "cell_type": "code",
   "execution_count": 3,
   "metadata": {},
   "outputs": [
    {
     "name": "stdout",
     "output_type": "stream",
     "text": [
      "960\n",
      "540\n"
     ]
    }
   ],
   "source": [
    "\n",
    "x2,y2 = pyautogui.size()\n",
    "x2,y2=int(str(x2)),int(str(y2))\n",
    "print(x2//2)\n",
    "print(y2//2)\n"
   ]
  },
  {
   "cell_type": "code",
   "execution_count": 5,
   "metadata": {},
   "outputs": [
    {
     "name": "stdout",
     "output_type": "stream",
     "text": [
      "21\n",
      "['', '', '', '● screencap.ipynb - zoomScreenCap - Visual Studio Code', 'Woh Kisna Hai - YouTube - Google Chrome', 'zoomScreenCap', 'Python Releases for Windows | Python.org - Google Chrome', 'Inbox (3,842) - pranjali_jain@ucsb.edu - University of California, Santa Barbara Mail - Google Chrome', '', 'bench.ipynb - spring2022 [WSL: Ubuntu-20.04] - Visual Studio Code', '', '', 'Microsoft Text Input Application', '', '', '', '', 'Settings', 'Settings', '', 'Program Manager']\n"
     ]
    }
   ],
   "source": [
    "\n",
    "# find new window title\n",
    "z1 = pygetwindow.getAllTitles()\n",
    "time.sleep(1)\n",
    "print(len(z1))\n",
    "print(z1)\n"
   ]
  },
  {
   "cell_type": "code",
   "execution_count": 12,
   "metadata": {},
   "outputs": [
    {
     "name": "stdout",
     "output_type": "stream",
     "text": [
      "20\n"
     ]
    }
   ],
   "source": [
    "# test with pictures folder\n",
    "# os.startfile(\"C:\\\\Users\\\\Pranj\\\\Pictures\")\n",
    "os.startfile(\"C:\\\\Users\\\\pranj\\\\OneDrive\\\\Pictures\")\n",
    "time.sleep(1)\n",
    "z2 = pygetwindow.getAllTitles()\n",
    "print(len(z2))\n"
   ]
  },
  {
   "cell_type": "code",
   "execution_count": 15,
   "metadata": {},
   "outputs": [
    {
     "name": "stdout",
     "output_type": "stream",
     "text": [
      "['New Tab - Google Chrome', \"python - (unicode error) 'unicodeescape' codec can't decode bytes in position 2-3: truncated \\\\UXXXXXXXX escape - Stack Overflow - Google Chrome\", 'Pictures']\n"
     ]
    }
   ],
   "source": [
    "time.sleep(1)\n",
    "z3 = [x for x in z2 if x not in z1]\n",
    "# z3 = ''.join(z3)\n",
    "time.sleep(3)\n",
    "print(z3)\n"
   ]
  },
  {
   "cell_type": "code",
   "execution_count": 22,
   "metadata": {},
   "outputs": [],
   "source": [
    "\n",
    "# also able to edit z3 to specified window-title string like: \"Sublime Text (UNREGISTERED)\"\n",
    "my = pygetwindow.getWindowsWithTitle(z3[-1])\n",
    "# hwnd = gw.getWindowsWithTitle('Notepad')\n",
    "if my != []:\n",
    "    try:\n",
    "        my[0].activate()\n",
    "    except:\n",
    "        my[0].minimize()\n",
    "        my[0].maximize()\n",
    "my = my[0]\n",
    "# quarter of screen screensize\n",
    "x3 = x2 // 2\n",
    "y3 = y2 // 2\n",
    "my.resizeTo(x3,y3)\n",
    "# top-left\n",
    "my.moveTo(0, 0)\n",
    "time.sleep(3)\n",
    "my.activate()\n",
    "time.sleep(1)\n",
    "\n",
    "# save screenshot\n",
    "p = pyautogui.screenshot()\n",
    "# p.save(r'C:\\\\Users\\\\yourname\\\\Pictures\\\\\\\\p.png')\n",
    "p.save(r\"C:\\\\Users\\\\pranj\\\\OneDrive\\\\Desktop\\\\UCSB Spring 2022\\\\ML for Networks\\\\zoomScreenCap\\\\\\\\p.png\")\n"
   ]
  },
  {
   "cell_type": "code",
   "execution_count": 26,
   "metadata": {},
   "outputs": [],
   "source": [
    "\n",
    "# edit screenshot\n",
    "im = PIL.Image.open(\"C:\\\\Users\\\\pranj\\\\OneDrive\\\\Desktop\\\\UCSB Spring 2022\\\\ML for Networks\\\\zoomScreenCap\\\\p.png\")\n",
    "im_crop = im.crop((0, 0, x3, y3))\n",
    "im_crop.save(\"C:\\\\Users\\\\pranj\\\\OneDrive\\\\Desktop\\\\UCSB Spring 2022\\\\ML for Networks\\\\zoomScreenCap\\\\p.jpg\", quality=100)\n",
    "\n",
    "# close window\n",
    "time.sleep(1)\n",
    "my.close()"
   ]
  },
  {
   "cell_type": "code",
   "execution_count": null,
   "metadata": {},
   "outputs": [],
   "source": []
  },
  {
   "cell_type": "code",
   "execution_count": 27,
   "metadata": {},
   "outputs": [
    {
     "name": "stdout",
     "output_type": "stream",
     "text": [
      "Collecting pyscreenshot\n",
      "  Downloading pyscreenshot-3.0-py3-none-any.whl (27 kB)\n",
      "Collecting mss\n",
      "  Downloading mss-6.1.0-py3-none-any.whl (76 kB)\n",
      "     ---------------------------------------- 76.9/76.9 kB ? eta 0:00:00\n",
      "Collecting entrypoint2\n",
      "  Downloading entrypoint2-1.0-py3-none-any.whl (9.8 kB)\n",
      "Collecting EasyProcess\n",
      "  Downloading EasyProcess-1.1-py3-none-any.whl (8.7 kB)\n",
      "Installing collected packages: entrypoint2, EasyProcess, mss, pyscreenshot\n",
      "Successfully installed EasyProcess-1.1 entrypoint2-1.0 mss-6.1.0 pyscreenshot-3.0\n",
      "Note: you may need to restart the kernel to use updated packages.\n"
     ]
    }
   ],
   "source": [
    "pip install pyscreenshot"
   ]
  },
  {
   "cell_type": "code",
   "execution_count": 20,
   "metadata": {},
   "outputs": [],
   "source": [
    "import pyscreenshot as ImageGrab\n"
   ]
  },
  {
   "cell_type": "code",
   "execution_count": null,
   "metadata": {},
   "outputs": [],
   "source": [
    "# fullscreen\n",
    "im=ImageGrab.grab()\n",
    "im.show()\n"
   ]
  },
  {
   "cell_type": "code",
   "execution_count": 2,
   "metadata": {},
   "outputs": [],
   "source": [
    "\n",
    "# part of the screen\n",
    "im=ImageGrab.grab(bbox=(10,10,500,500))\n",
    "im.show()\n"
   ]
  },
  {
   "cell_type": "code",
   "execution_count": null,
   "metadata": {},
   "outputs": [],
   "source": [
    "\n",
    "# to file\n",
    "ImageGrab.grab_to_file('im.png')"
   ]
  },
  {
   "cell_type": "code",
   "execution_count": null,
   "metadata": {},
   "outputs": [],
   "source": []
  },
  {
   "cell_type": "code",
   "execution_count": 5,
   "metadata": {},
   "outputs": [],
   "source": [
    "pyautogui.mouseInfo()"
   ]
  },
  {
   "cell_type": "code",
   "execution_count": 8,
   "metadata": {},
   "outputs": [
    {
     "name": "stdout",
     "output_type": "stream",
     "text": [
      "Collecting numpyNote: you may need to restart the kernel to use updated packages.\n",
      "\n",
      "  Downloading numpy-1.22.4-cp39-cp39-win_amd64.whl (14.7 MB)\n",
      "     --------------------------------------- 14.7/14.7 MB 22.6 MB/s eta 0:00:00\n",
      "Installing collected packages: numpy\n",
      "Successfully installed numpy-1.22.4\n"
     ]
    }
   ],
   "source": [
    "pip install numpy"
   ]
  },
  {
   "cell_type": "code",
   "execution_count": 9,
   "metadata": {},
   "outputs": [],
   "source": [
    "# import cv2\n",
    "import numpy as np\n",
    "import pyautogui\n",
    "import time\n"
   ]
  },
  {
   "cell_type": "code",
   "execution_count": 21,
   "metadata": {},
   "outputs": [
    {
     "ename": "KeyboardInterrupt",
     "evalue": "",
     "output_type": "error",
     "traceback": [
      "\u001b[1;31m---------------------------------------------------------------------------\u001b[0m",
      "\u001b[1;31mKeyboardInterrupt\u001b[0m                         Traceback (most recent call last)",
      "\u001b[1;32mc:\\Users\\pranj\\OneDrive\\Desktop\\UCSB Spring 2022\\ML for Networks\\zoomScreenCap\\screencap.ipynb Cell 22'\u001b[0m in \u001b[0;36m<cell line: 12>\u001b[1;34m()\u001b[0m\n\u001b[0;32m     <a href='vscode-notebook-cell:/c%3A/Users/pranj/OneDrive/Desktop/UCSB%20Spring%202022/ML%20for%20Networks/zoomScreenCap/screencap.ipynb#ch0000021?line=15'>16</a>\u001b[0m timestamps\u001b[39m.\u001b[39mappend(timestamp)\n\u001b[0;32m     <a href='vscode-notebook-cell:/c%3A/Users/pranj/OneDrive/Desktop/UCSB%20Spring%202022/ML%20for%20Networks/zoomScreenCap/screencap.ipynb#ch0000021?line=16'>17</a>\u001b[0m elapsed \u001b[39m=\u001b[39m time\u001b[39m.\u001b[39mtime()\u001b[39m-\u001b[39mtimestamp\n\u001b[1;32m---> <a href='vscode-notebook-cell:/c%3A/Users/pranj/OneDrive/Desktop/UCSB%20Spring%202022/ML%20for%20Networks/zoomScreenCap/screencap.ipynb#ch0000021?line=17'>18</a>\u001b[0m time\u001b[39m.\u001b[39;49msleep(\u001b[39m1\u001b[39;49m\u001b[39m-\u001b[39;49melapsed)\n",
      "\u001b[1;31mKeyboardInterrupt\u001b[0m: "
     ]
    }
   ],
   "source": [
    "\n",
    "# SCREEN_SIZE = (1920, 1080)\n",
    "# SCREEN_SIZE = x,y = pyautogui.size()\n",
    "# fource = cv2.VideoWriter_fourcc(*'XVID')\n",
    "# out = cv2.VideoWriter('output.mp4', fource, 20.0, (SCREEN_SIZE))\n",
    "\n",
    "# fps =30\n",
    "prev = 0\n",
    "images = []\n",
    "timestamps = []\n",
    "\n",
    "while True:\n",
    "    timestamp = time.time()\n",
    "    # img = pyautogui.screenshot()\n",
    "    img = ImageGrab.grab(bbox=(10,10,500,500))\n",
    "    images.append(img)\n",
    "    timestamps.append(timestamp)\n",
    "    elapsed = time.time()-timestamp\n",
    "    time.sleep(1-elapsed)\n",
    "\n",
    "    # if time_elapsed > 1.0/fps:\n",
    "    #     prev = time.time()\n",
    "    #     frame = np.array(img)\n",
    "    #     frame = cv2.cvtColor(frame, cv2.COLOR_BGR2RGB)\n",
    "    #     out.write(frame)\n",
    "    # cv2.waitKey(10000)"
   ]
  },
  {
   "cell_type": "code",
   "execution_count": 22,
   "metadata": {},
   "outputs": [],
   "source": [
    "for i,img in enumerate(images):\n",
    "    img.save(rf\"C:\\\\Users\\\\pranj\\\\OneDrive\\\\Desktop\\\\UCSB Spring 2022\\\\ML for Networks\\\\zoomScreenCap\\\\test_images\\\\\\\\{i}.png\")"
   ]
  },
  {
   "cell_type": "code",
   "execution_count": 17,
   "metadata": {},
   "outputs": [
    {
     "data": {
      "text/plain": [
       "7"
      ]
     },
     "execution_count": 17,
     "metadata": {},
     "output_type": "execute_result"
    }
   ],
   "source": [
    "len(images)"
   ]
  },
  {
   "cell_type": "code",
   "execution_count": 19,
   "metadata": {},
   "outputs": [
    {
     "name": "stdout",
     "output_type": "stream",
     "text": [
      "[1653977036.7499404, 1653977037.7618146, 1653977038.7819464, 1653977039.7903175, 1653977040.7940562, 1653977041.8100798, 1653977042.812298]\n"
     ]
    }
   ],
   "source": [
    "print(timestamps)"
   ]
  },
  {
   "cell_type": "code",
   "execution_count": null,
   "metadata": {},
   "outputs": [],
   "source": []
  },
  {
   "cell_type": "code",
   "execution_count": null,
   "metadata": {},
   "outputs": [],
   "source": [
    "import time\n",
    "import cv2\n",
    "import mss\n",
    "import numpy\n",
    "\n",
    "\n",
    "with mss.mss() as sct:\n",
    "    monitor = {'top': 40, 'left': 0, 'width': 800, 'height': 640}\n",
    "    img_matrix = []\n",
    "\n",
    "    for _ in range(100):\n",
    "        # Get raw pizels from screen and save to numpy array\n",
    "        img = numpy.array(sct.grab(monitor))\n",
    "        img = cv2.cvtColor(img, cv2.COLOR_BGR2GRAY)\n",
    "\n",
    "        # Save img data as matrix\n",
    "        img_matrix.append(img)\n",
    "\n",
    "        # Display Image\n",
    "        cv2.imshow('Normal', img)\n",
    "\n",
    "        # Press q to quit\n",
    "        if cv2.waitKey(25) & 0xFF == ord('q'):\n",
    "            cv2.destroyAllWindows()\n",
    "            break\n",
    "\n",
    "    # Playback image movie from screencapture\n",
    "    for img in img_matrix:\n",
    "        cv2.imshow('Playback', img)\n",
    "\n",
    "        # Press q to quit\n",
    "        if cv2.waitKey(25) & 0xFF == ord('q'):\n",
    "            cv2.destroyAllWindows()\n",
    "            break"
   ]
  },
  {
   "cell_type": "code",
   "execution_count": null,
   "metadata": {},
   "outputs": [],
   "source": []
  }
 ],
 "metadata": {
  "interpreter": {
   "hash": "07cb9f8cfeda7696f493be45d4c7d34e86c9471be28912a84cd579d37231079d"
  },
  "kernelspec": {
   "display_name": "Python 3.9.13 64-bit",
   "language": "python",
   "name": "python3"
  },
  "language_info": {
   "codemirror_mode": {
    "name": "ipython",
    "version": 3
   },
   "file_extension": ".py",
   "mimetype": "text/x-python",
   "name": "python",
   "nbconvert_exporter": "python",
   "pygments_lexer": "ipython3",
   "version": "3.9.13"
  },
  "orig_nbformat": 4
 },
 "nbformat": 4,
 "nbformat_minor": 2
}
